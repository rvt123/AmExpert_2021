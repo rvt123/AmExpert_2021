{
 "cells": [
  {
   "cell_type": "code",
   "execution_count": 1,
   "metadata": {},
   "outputs": [],
   "source": [
    "import pandas as pd\n",
    "from sklearn.preprocessing import MultiLabelBinarizer\n",
    "from scipy.sparse.linalg import svds\n",
    "from scipy.sparse import csr_matrix, coo_matrix\n",
    "import numpy as np\n",
    "import seaborn as sns\n",
    "import matplotlib.pyplot as plt"
   ]
  },
  {
   "cell_type": "code",
   "execution_count": 2,
   "metadata": {},
   "outputs": [],
   "source": [
    "def generate_many_classes(target_data):\n",
    "    mlb = MultiLabelBinarizer()\n",
    "    class_series = mlb.fit_transform(target_data)\n",
    "    return class_series,mlb.classes_\n",
    "\n",
    "def get_svd_score(svd_dict,b2_prod_list,row_id):\n",
    "    score_list = []\n",
    "    for prod in b2_prod_list:\n",
    "        score_list.append(svd_dict[prod][row_id])\n",
    "    return sum(score_list)"
   ]
  },
  {
   "cell_type": "code",
   "execution_count": 3,
   "metadata": {},
   "outputs": [],
   "source": [
    "BASE = 'C:/Users/raghu/AMEXPERT/'\n",
    "data = pd.read_csv(BASE + \"train_go05W65.csv\")"
   ]
  },
  {
   "cell_type": "code",
   "execution_count": 4,
   "metadata": {},
   "outputs": [
    {
     "data": {
      "text/html": [
       "<div>\n",
       "<style scoped>\n",
       "    .dataframe tbody tr th:only-of-type {\n",
       "        vertical-align: middle;\n",
       "    }\n",
       "\n",
       "    .dataframe tbody tr th {\n",
       "        vertical-align: top;\n",
       "    }\n",
       "\n",
       "    .dataframe thead th {\n",
       "        text-align: right;\n",
       "    }\n",
       "</style>\n",
       "<table border=\"1\" class=\"dataframe\">\n",
       "  <thead>\n",
       "    <tr style=\"text-align: right;\">\n",
       "      <th></th>\n",
       "      <th>Age</th>\n",
       "      <th>Vintage</th>\n",
       "    </tr>\n",
       "  </thead>\n",
       "  <tbody>\n",
       "    <tr>\n",
       "      <th>min</th>\n",
       "      <td>24.000000</td>\n",
       "      <td>2.000000</td>\n",
       "    </tr>\n",
       "    <tr>\n",
       "      <th>max</th>\n",
       "      <td>59.000000</td>\n",
       "      <td>65.000000</td>\n",
       "    </tr>\n",
       "    <tr>\n",
       "      <th>mean</th>\n",
       "      <td>38.521379</td>\n",
       "      <td>19.573169</td>\n",
       "    </tr>\n",
       "    <tr>\n",
       "      <th>std</th>\n",
       "      <td>10.121811</td>\n",
       "      <td>10.252417</td>\n",
       "    </tr>\n",
       "  </tbody>\n",
       "</table>\n",
       "</div>"
      ],
      "text/plain": [
       "            Age    Vintage\n",
       "min   24.000000   2.000000\n",
       "max   59.000000  65.000000\n",
       "mean  38.521379  19.573169\n",
       "std   10.121811  10.252417"
      ]
     },
     "execution_count": 4,
     "metadata": {},
     "output_type": "execute_result"
    }
   ],
   "source": [
    "data[['Age','Vintage']].agg([min,max,np.mean,np.std])"
   ]
  },
  {
   "cell_type": "code",
   "execution_count": 5,
   "metadata": {},
   "outputs": [
    {
     "data": {
      "text/plain": [
       "830"
      ]
     },
     "execution_count": 5,
     "metadata": {},
     "output_type": "execute_result"
    }
   ],
   "source": [
    "len(data[(data['Age'] < data['Age'].quantile(0.01)) | (data['Age'] > data['Age'].quantile(0.99)) | (data['Vintage'] < data['Vintage'].quantile(0.01)) | (data['Vintage'] > data['Vintage'].quantile(0.99)) ])"
   ]
  },
  {
   "cell_type": "code",
   "execution_count": 6,
   "metadata": {
    "scrolled": true
   },
   "outputs": [
    {
     "data": {
      "text/plain": [
       "2.1987919889795484"
      ]
     },
     "execution_count": 6,
     "metadata": {},
     "output_type": "execute_result"
    }
   ],
   "source": [
    "(830/len(data))*100"
   ]
  },
  {
   "cell_type": "code",
   "execution_count": 7,
   "metadata": {},
   "outputs": [
    {
     "data": {
      "text/plain": [
       "<seaborn.axisgrid.FacetGrid at 0x1f2c0836828>"
      ]
     },
     "execution_count": 7,
     "metadata": {},
     "output_type": "execute_result"
    },
    {
     "data": {
      "image/png": "[encoded data removed]",
      "text/plain": [
       "<Figure size 360x360 with 1 Axes>"
      ]
     },
     "metadata": {},
     "output_type": "display_data"
    }
   ],
   "source": [
    "sns.displot(data['Age'])"
   ]
  },
  {
   "cell_type": "code",
   "execution_count": 8,
   "metadata": {},
   "outputs": [
    {
     "name": "stdout",
     "output_type": "stream",
     "text": [
      "Before Clipping 24 25.0 59.0 59\n",
      "After Clipping 25 25.0 59.0 59\n"
     ]
    }
   ],
   "source": [
    "print(\"Before Clipping\",data['Age'].min(),data['Age'].quantile(0.01),data['Age'].quantile(.99),data['Age'].max())\n",
    "data['Age'] = data['Age'].clip(lower=data['Age'].quantile(0.01),upper=data['Age'].quantile(.99))\n",
    "print(\"After Clipping\",data['Age'].min(),data['Age'].quantile(0.01),data['Age'].quantile(.99),data['Age'].max())"
   ]
  },
  {
   "cell_type": "code",
   "execution_count": 9,
   "metadata": {},
   "outputs": [
    {
     "data": {
      "text/plain": [
       "<seaborn.axisgrid.FacetGrid at 0x1f2c0342cc0>"
      ]
     },
     "execution_count": 9,
     "metadata": {},
     "output_type": "execute_result"
    },
    {
     "data": {
      "image/png": "[encoded data removed]",
      "text/plain": [
       "<Figure size 360x360 with 1 Axes>"
      ]
     },
     "metadata": {},
     "output_type": "display_data"
    }
   ],
   "source": [
    "sns.displot(data['Age'])"
   ]
  },
  {
   "cell_type": "code",
   "execution_count": 10,
   "metadata": {},
   "outputs": [
    {
     "data": {
      "text/plain": [
       "<seaborn.axisgrid.FacetGrid at 0x1f2c0413b00>"
      ]
     },
     "execution_count": 10,
     "metadata": {},
     "output_type": "execute_result"
    },
    {
     "data": {
      "image/png": "[encoded data removed]",
      "text/plain": [
       "<Figure size 360x360 with 1 Axes>"
      ]
     },
     "metadata": {},
     "output_type": "display_data"
    }
   ],
   "source": [
    "sns.displot(data['Vintage'])"
   ]
  },
  {
   "cell_type": "code",
   "execution_count": 11,
   "metadata": {},
   "outputs": [
    {
     "name": "stdout",
     "output_type": "stream",
     "text": [
      "Before Clipping 2 10.0 56.0 65\n",
      "After Clipping 10 10.0 56.0 56\n"
     ]
    }
   ],
   "source": [
    "print(\"Before Clipping\",data['Vintage'].min(),data['Vintage'].quantile(0.01),data['Vintage'].quantile(.99),data['Vintage'].max())\n",
    "data['Vintage'] = data['Vintage'].clip(lower=data['Vintage'].quantile(0.01),upper=data['Vintage'].quantile(.99))\n",
    "print(\"After Clipping\",data['Vintage'].min(),data['Vintage'].quantile(0.01),data['Vintage'].quantile(.99),data['Vintage'].max())"
   ]
  },
  {
   "cell_type": "code",
   "execution_count": 12,
   "metadata": {},
   "outputs": [
    {
     "data": {
      "text/plain": [
       "<seaborn.axisgrid.FacetGrid at 0x1f2c04ea208>"
      ]
     },
     "execution_count": 12,
     "metadata": {},
     "output_type": "execute_result"
    },
    {
     "data": {
      "image/png": "[encoded data removed]",
      "text/plain": [
       "<Figure size 360x360 with 1 Axes>"
      ]
     },
     "metadata": {},
     "output_type": "display_data"
    }
   ],
   "source": [
    "sns.displot(data['Vintage'])"
   ]
  },
  {
   "cell_type": "code",
   "execution_count": 13,
   "metadata": {},
   "outputs": [
    {
     "data": {
      "text/plain": [
       "Text(0,0.5,'Counts of Product')"
      ]
     },
     "execution_count": 13,
     "metadata": {},
     "output_type": "execute_result"
    },
    {
     "data": {
      "image/png": "[encoded data removed]",
      "text/plain": [
       "<Figure size 576x288 with 1 Axes>"
      ]
     },
     "metadata": {},
     "output_type": "display_data"
    }
   ],
   "source": [
    "b1_dict = data['Product_Holding_B1'].map(lambda x : eval(x)).explode().value_counts().to_dict()\n",
    "b1_dict = { k:b1_dict.get(k) for k in sorted(b1_dict) }\n",
    "\n",
    "fig = plt.figure(figsize=(8,4))\n",
    "plt.bar(b1_dict.keys(), b1_dict.values(), color='g',)\n",
    "fig.suptitle('Bar Plot representing counts of different products of Product_Holding_B1')\n",
    "plt.xlabel('Products of Product_Holding_B1')\n",
    "plt.ylabel('Counts of Product')"
   ]
  },
  {
   "cell_type": "code",
   "execution_count": 14,
   "metadata": {},
   "outputs": [
    {
     "data": {
      "text/plain": [
       "Text(0,0.5,'Counts of Product')"
      ]
     },
     "execution_count": 14,
     "metadata": {},
     "output_type": "execute_result"
    },
    {
     "data": {
      "image/png": "[encoded data removed]",
      "text/plain": [
       "<Figure size 576x288 with 1 Axes>"
      ]
     },
     "metadata": {},
     "output_type": "display_data"
    }
   ],
   "source": [
    "b2_dict = data['Product_Holding_B2'].map(lambda x : eval(x)).explode().value_counts().to_dict()\n",
    "b2_dict = { k:b2_dict.get(k) for k in sorted(b2_dict) }\n",
    "\n",
    "fig = plt.figure(figsize=(8,4))\n",
    "plt.bar(b2_dict.keys(), b2_dict.values(), color='g',)\n",
    "fig.suptitle('Bar Plot representing counts of different products of Product_Holding_B2')\n",
    "plt.xlabel('Products of Product_Holding_B2')\n",
    "plt.ylabel('Counts of Product')"
   ]
  },
  {
   "cell_type": "code",
   "execution_count": 15,
   "metadata": {},
   "outputs": [
    {
     "data": {
      "text/plain": [
       "{'P19', 'P21'}"
      ]
     },
     "execution_count": 15,
     "metadata": {},
     "output_type": "execute_result"
    }
   ],
   "source": [
    "set(b1_dict.keys()) - set(b2_dict.keys())"
   ]
  },
  {
   "cell_type": "code",
   "execution_count": 16,
   "metadata": {},
   "outputs": [],
   "source": [
    "data.loc[:,'vintage_by_age'] = data['Vintage'] / data['Age']\n",
    "data['Gender_City_Category']=data['Gender']+data['City_Category']\n",
    "data['Gender_Customer_Category']=data['Gender']+data['Customer_Category']\n",
    "data['City_Customer_Category']=data['City_Category']+data['Customer_Category']\n",
    "data['Gender_City_Customer']=data['City_Category']+data['Customer_Category']+data['Gender']\n",
    "data['Gender_City_Customer_active']=data['City_Category']+data['Customer_Category']+data['Gender']+data['Is_Active'].astype(str)"
   ]
  },
  {
   "cell_type": "code",
   "execution_count": 17,
   "metadata": {},
   "outputs": [],
   "source": [
    "data['Product_Holding_B1'] = data['Product_Holding_B1'].apply(lambda x : eval(x))\n",
    "data['Product_len_B1'] = data['Product_Holding_B1'].map(len)\n",
    "a,b = generate_many_classes(data['Product_Holding_B1'])\n",
    "data[b] = a"
   ]
  },
  {
   "cell_type": "code",
   "execution_count": 18,
   "metadata": {},
   "outputs": [],
   "source": [
    "data_y,class_names_y = generate_many_classes(data['Product_Holding_B2'].map(lambda x: eval(x)))\n",
    "df_data_y = pd.DataFrame(data_y,columns=class_names_y)\n",
    "df_data_y['P19'] = 0\n",
    "df_data_y['P21'] = 0"
   ]
  },
  {
   "cell_type": "code",
   "execution_count": 19,
   "metadata": {},
   "outputs": [],
   "source": [
    "prod_counts = data['Product_Holding_B1'].map(lambda x: str(x)).drop_duplicates().reset_index(drop=True)\n",
    "prod_counts = dict(zip( prod_counts.map(lambda x: str(x)), prod_counts.map(lambda x: df_data_y[eval(x)].sum().sum() ) ))\n",
    "data['product_counts'] = data['Product_Holding_B1'].map(lambda x: prod_counts.get(str(x)))"
   ]
  },
  {
   "cell_type": "code",
   "execution_count": 21,
   "metadata": {},
   "outputs": [],
   "source": [
    "\n",
    "##########################################################\n",
    "data['id'] = data['Customer_ID'].map(lambda x : int(x.replace(\"CC\", \"\")))\n",
    "\n",
    "\n",
    "data['svd_id_1'] = data['id'] // 10\n",
    "df = data[ list(b) + ['id'] ].drop_duplicates() # here target data can be used \n",
    "df['id'] = df['id'] // 10\n",
    "df = df.groupby('id').sum()\n",
    "R = coo_matrix(df.values).asfptype()\n",
    "U, sigma, Vt = svds(R, k = 8)\n",
    "\n",
    "df1 = pd.DataFrame(np.matmul(U, Vt))\n",
    "df1['id'] = df.index\n",
    "df1 = df1.set_index('id')\n",
    "df1.columns = b\n",
    "svd_score = df1.to_dict()\n",
    "\n",
    "# data['svd_score1'] = [ get_svd_score(svd_score,eval(row.Product_Holding_B1),row.svd_id_1) for row in data.itertuples()]\n",
    "data['svd_score1'] = [ get_svd_score(svd_score,row.Product_Holding_B1,row.svd_id_1) for row in data.itertuples()]\n",
    "data['svd_id_1'] = data['svd_id_1'].map((data['svd_id_1'].value_counts()/10).to_dict())\n",
    "\n",
    "#######################################################\n",
    "\n",
    "data['svd_id_2'] = data['id'] // 100\n",
    "df = data[ list(b) + ['id'] ].drop_duplicates()\n",
    "df['id'] = df['id'] // 100\n",
    "df = df.groupby('id').sum()\n",
    "R = coo_matrix(df.values).asfptype()\n",
    "U, sigma, Vt = svds(R, k = 8)\n",
    "\n",
    "df1 = pd.DataFrame(np.matmul(U, Vt))\n",
    "df1['id'] = df.index\n",
    "df1 = df1.set_index('id')\n",
    "df1.columns = b\n",
    "svd_score = df1.to_dict()\n",
    "\n",
    "data['svd_score2'] = [ get_svd_score(svd_score,row.Product_Holding_B1,row.svd_id_2) for row in data.itertuples()]\n",
    "\n",
    "customer_popularity = data.explode(\"Product_Holding_B1\").groupby(data['svd_id_2']).apply(lambda x : \n",
    "            x[\"Product_Holding_B1\"].value_counts().nlargest(5)).reset_index().groupby(\n",
    "    [\"svd_id_2\"])[\"level_1\"].apply(list).reset_index().rename(columns = {\"level_1\" : \"customer_bucket_popular_products_100\"})\n",
    "\n",
    "data = data.merge(customer_popularity, on=[\"svd_id_2\"])\n",
    "data['svd_id_2'] = data['svd_id_2'].map((data['svd_id_2'].value_counts()/100).to_dict())\n",
    "\n",
    "#############################################################\n",
    "\n",
    "data['svd_id_3'] = data['id'] // 1000\n",
    "df = data[ list(b) + ['id'] ].drop_duplicates()\n",
    "df['id'] = df['id'] // 1000\n",
    "df = df.groupby('id').sum()\n",
    "R = coo_matrix(df.values).asfptype()\n",
    "U, sigma, Vt = svds(R, k = 8)\n",
    "\n",
    "df1 = pd.DataFrame(np.matmul(U, Vt))\n",
    "df1['id'] = df.index\n",
    "df1 = df1.set_index('id')\n",
    "df1.columns = b\n",
    "svd_score = df1.to_dict()\n",
    "\n",
    "data['svd_score3'] = [ get_svd_score(svd_score,row.Product_Holding_B1,row.svd_id_3) for row in data.itertuples()]\n",
    "customer_popularity = data.explode(\"Product_Holding_B1\").groupby(data['svd_id_3']).apply(lambda x : \n",
    "            x[\"Product_Holding_B1\"].value_counts().nlargest(5)).reset_index().groupby(\n",
    "    [\"svd_id_3\"])[\"level_1\"].apply(list).reset_index().rename(columns = {\"level_1\" : \"customer_bucket_popular_products_1000\"})\n",
    "\n",
    "data = data.merge(customer_popularity, on=[\"svd_id_3\"])\n",
    "data['svd_id_3'] = data['svd_id_3'].map((data['svd_id_3'].value_counts()/1000).to_dict())"
   ]
  },
  {
   "cell_type": "code",
   "execution_count": 22,
   "metadata": {},
   "outputs": [],
   "source": [
    "def create_freq_df(dataframe,column,target,classes): \n",
    "    df_freq=data[column].explode().value_counts().rename_axis(column).reset_index(name='occurences')\n",
    "    df_freq[df_freq[column].values]=0\n",
    "\n",
    "    for product in df_freq[column].values:\n",
    "        sf=data[data[column].apply(lambda x: product in x)][target].explode().value_counts().to_dict()\n",
    "        df_freq.loc[df_freq[column]==product,list(sf.keys())]=list(sf.values())\n",
    "\n",
    "    df_freq.loc[:,df_freq.columns.difference([column,'occurences'])] = \\\n",
    "                    df_freq.loc[:,df_freq.columns.difference([column,'occurences'])].div(df_freq.occurences,axis=0)\n",
    "    df_freq.loc[:,df_freq.columns.difference([column,'occurences'])] = \\\n",
    "        df_freq.loc[:,df_freq.columns.difference([column,'occurences'])].div(df_freq.loc[:,df_freq.columns.difference([column,'occurences'])].max()).fillna(0)\n",
    "    map_df = pd.DataFrame(columns=['Product']+list(classes))\n",
    "    map_df['Product'] = data[column].map(lambda x: str(x)).drop_duplicates().reset_index(drop=True) \n",
    "    \n",
    "    for prod in map_df.Product:\n",
    "        data_ = df_freq.loc[df_freq[column].isin(eval(prod)),df_freq.columns.difference([column,'occurences'])].sum().to_dict()\n",
    "        map_df.loc[map_df.Product==prod,list(data_.keys())]=list(data_.values())\n",
    "    \n",
    "    return map_df"
   ]
  },
  {
   "cell_type": "code",
   "execution_count": 23,
   "metadata": {},
   "outputs": [],
   "source": [
    "data['Product_Holding_B2'] = data['Product_Holding_B2'].apply(lambda x : eval(x))"
   ]
  },
  {
   "cell_type": "code",
   "execution_count": 24,
   "metadata": {},
   "outputs": [
    {
     "name": "stdout",
     "output_type": "stream",
     "text": [
      "Product_Holding_B1\n",
      "customer_bucket_popular_products_100\n",
      "customer_bucket_popular_products_1000\n"
     ]
    }
   ],
   "source": [
    "for col in ['Product_Holding_B1','customer_bucket_popular_products_100','customer_bucket_popular_products_1000']:\n",
    "    print(col)\n",
    "    map_df = create_freq_df(data,col,'Product_Holding_B2',b)\n",
    "    data[col]= data[col].map(lambda x: str(x))\n",
    "    data = data.set_index(col).join(map_df.set_index('Product').astype(float).add_prefix(col+'_')).reset_index(drop=True)"
   ]
  },
  {
   "cell_type": "code",
   "execution_count": 46,
   "metadata": {},
   "outputs": [
    {
     "data": {
      "text/plain": [
       "Customer_ID           object\n",
       "Product_Holding_B2    object\n",
       "dtype: object"
      ]
     },
     "execution_count": 46,
     "metadata": {},
     "output_type": "execute_result"
    }
   ],
   "source": [
    "data.dtypes[data.dtypes == 'object']"
   ]
  },
  {
   "cell_type": "code",
   "execution_count": 37,
   "metadata": {},
   "outputs": [],
   "source": [
    "cat_cols = ['Gender','City_Category','Customer_Category','Gender_City_Category',\n",
    "            'Gender_Customer_Category','City_Customer_Category','Gender_City_Customer','Gender_City_Customer_active']"
   ]
  },
  {
   "cell_type": "code",
   "execution_count": 38,
   "metadata": {},
   "outputs": [
    {
     "name": "stdout",
     "output_type": "stream",
     "text": [
      "Gender\n",
      "City_Category\n",
      "Customer_Category\n",
      "Gender_City_Category\n",
      "Gender_Customer_Category\n",
      "City_Customer_Category\n",
      "Gender_City_Customer\n",
      "Gender_City_Customer_active\n"
     ]
    }
   ],
   "source": [
    "for col in cat_cols:\n",
    "    print(col)\n",
    "    data[col] = data[col].replace(dict(zip(data[col].unique(),range(len(data[col].unique())))))"
   ]
  },
  {
   "cell_type": "code",
   "execution_count": 240,
   "metadata": {},
   "outputs": [],
   "source": [
    "import numpy as np\n",
    "\n",
    "def apk(actual, predicted, k=10):\n",
    "    if len(predicted)>k:\n",
    "        predicted = predicted[:k]\n",
    "    score = 0.0\n",
    "    num_hits = 0.0\n",
    "\n",
    "    for i,p in enumerate(predicted):\n",
    "        if p in actual and p not in predicted[:i]:\n",
    "            num_hits += 1.0\n",
    "            score += num_hits / (i+1.0)\n",
    "    if not actual:\n",
    "        return 0.0\n",
    "    return score / min(len(actual), k)\n",
    "\n",
    "def mapk(actual, predicted, k=10):\n",
    "    return np.mean([apk(a,p,k) for a,p in zip(actual, predicted)])"
   ]
  },
  {
   "cell_type": "code",
   "execution_count": 259,
   "metadata": {},
   "outputs": [],
   "source": [
    "def evaluate_model(model,x,y,classes):\n",
    "    preds = model.predict(x).reshape(classes, len(x)).T\n",
    "    preds = np.argsort(preds)[:, -3:][:, ::-1]\n",
    "    target_list = []\n",
    "    for row in y:\n",
    "        target_list.append(list(np.where(row==1)[0]))\n",
    "    return mapk(target_list, preds, k=3)"
   ]
  },
  {
   "cell_type": "code",
   "execution_count": 42,
   "metadata": {},
   "outputs": [],
   "source": [
    "from sklearn.model_selection import train_test_split"
   ]
  },
  {
   "cell_type": "code",
   "execution_count": 43,
   "metadata": {},
   "outputs": [],
   "source": [
    "from lightgbm import LGBMClassifier"
   ]
  },
  {
   "cell_type": "code",
   "execution_count": 51,
   "metadata": {},
   "outputs": [],
   "source": [
    "X_train, X_test, y_train, y_test = train_test_split(data[data.columns.difference(['Customer_ID','Product_Holding_B2'])].values, df_data_y[class_names_y].values, test_size=0.33, random_state=242)"
   ]
  },
  {
   "cell_type": "code",
   "execution_count": null,
   "metadata": {},
   "outputs": [],
   "source": [
    "from sklearn.multioutput import MultiOutputClassifier\n",
    "from sklearn.multioutput import ClassifierChain"
   ]
  },
  {
   "cell_type": "code",
   "execution_count": 272,
   "metadata": {},
   "outputs": [
    {
     "name": "stdout",
     "output_type": "stream",
     "text": [
      "[ 812 1039 1241 1655 1665 1925 1978 2187 2373 3146 3955 4884 7659]\n",
      "[15  5 19 13 17  2 14  1  8 16  0  4 18]\n"
     ]
    }
   ],
   "source": [
    "print(np.sort(y_train.sum(axis=0))[7:])\n",
    "print(np.argsort(y_train.sum(axis=0))[7:])"
   ]
  },
  {
   "cell_type": "markdown",
   "metadata": {},
   "source": [
    "### Multioutput"
   ]
  },
  {
   "cell_type": "markdown",
   "metadata": {},
   "source": [
    "### All classes - 20"
   ]
  },
  {
   "cell_type": "code",
   "execution_count": 267,
   "metadata": {},
   "outputs": [
    {
     "data": {
      "text/plain": [
       "MultiOutputClassifier(estimator=LGBMClassifier(n_estimators=1000))"
      ]
     },
     "execution_count": 267,
     "metadata": {},
     "output_type": "execute_result"
    }
   ],
   "source": [
    "model = LGBMClassifier(n_estimators=1000)\n",
    "multilabel_model = MultiOutputClassifier(model)\n",
    "multilabel_model.fit(X_train, y_train)"
   ]
  },
  {
   "cell_type": "code",
   "execution_count": 268,
   "metadata": {},
   "outputs": [
    {
     "name": "stdout",
     "output_type": "stream",
     "text": [
      "Evaluation on Training Dataset 0.1263449009089751\n",
      "Evaluation on Test Dataset 0.1570803564261058\n"
     ]
    }
   ],
   "source": [
    "print(\"Evaluation on Training Dataset\",evaluate_model(multilabel_model,X_train,y_train,20))\n",
    "print(\"Evaluation on Test Dataset\",evaluate_model(multilabel_model,X_test,y_test,20))"
   ]
  },
  {
   "cell_type": "markdown",
   "metadata": {},
   "source": [
    "### 13 classes "
   ]
  },
  {
   "cell_type": "code",
   "execution_count": 273,
   "metadata": {},
   "outputs": [
    {
     "data": {
      "text/plain": [
       "MultiOutputClassifier(estimator=LGBMClassifier(n_estimators=1000))"
      ]
     },
     "execution_count": 273,
     "metadata": {},
     "output_type": "execute_result"
    }
   ],
   "source": [
    "model = LGBMClassifier(n_estimators=1000)\n",
    "multilabel_model = MultiOutputClassifier(model)\n",
    "multilabel_model.fit(X_train, y_train[:,np.argsort(y_train.sum(axis=0))[7:]])"
   ]
  },
  {
   "cell_type": "code",
   "execution_count": 274,
   "metadata": {},
   "outputs": [
    {
     "name": "stdout",
     "output_type": "stream",
     "text": [
      "Evaluation on Training Dataset 0.03648970428654901\n",
      "Evaluation on Test Dataset 0.008018695423367493\n"
     ]
    }
   ],
   "source": [
    "print(\"Evaluation on Training Dataset\",evaluate_model(multilabel_model,X_train,y_train,13))\n",
    "print(\"Evaluation on Test Dataset\",evaluate_model(multilabel_model,X_test,y_test,13))"
   ]
  },
  {
   "cell_type": "markdown",
   "metadata": {},
   "source": [
    "### 5 classes"
   ]
  },
  {
   "cell_type": "code",
   "execution_count": 275,
   "metadata": {},
   "outputs": [
    {
     "data": {
      "text/plain": [
       "MultiOutputClassifier(estimator=LGBMClassifier(n_estimators=1000))"
      ]
     },
     "execution_count": 275,
     "metadata": {},
     "output_type": "execute_result"
    }
   ],
   "source": [
    "model = LGBMClassifier(n_estimators=1000)\n",
    "multilabel_model = MultiOutputClassifier(model)\n",
    "multilabel_model.fit(X_train, y_train[:,np.argsort(y_train.sum(axis=0))[15:]])"
   ]
  },
  {
   "cell_type": "code",
   "execution_count": 276,
   "metadata": {},
   "outputs": [
    {
     "name": "stdout",
     "output_type": "stream",
     "text": [
      "Evaluation on Training Dataset 0.1550101265711562\n",
      "Evaluation on Test Dataset 0.16402424339728666\n"
     ]
    }
   ],
   "source": [
    "print(\"Evaluation on Training Dataset\",evaluate_model(multilabel_model,X_train,y_train,5))\n",
    "print(\"Evaluation on Test Dataset\",evaluate_model(multilabel_model,X_test,y_test,5))"
   ]
  },
  {
   "cell_type": "markdown",
   "metadata": {},
   "source": [
    "### Classifier Chain"
   ]
  },
  {
   "cell_type": "markdown",
   "metadata": {},
   "source": [
    "### All 20 classes"
   ]
  },
  {
   "cell_type": "code",
   "execution_count": 278,
   "metadata": {},
   "outputs": [
    {
     "data": {
      "text/plain": [
       "ClassifierChain(base_estimator=LGBMClassifier(n_estimators=1000))"
      ]
     },
     "execution_count": 278,
     "metadata": {},
     "output_type": "execute_result"
    }
   ],
   "source": [
    "model = LGBMClassifier(n_estimators=1000)\n",
    "multilabel_model = ClassifierChain(model)\n",
    "multilabel_model.fit(X_train, y_train)"
   ]
  },
  {
   "cell_type": "code",
   "execution_count": 279,
   "metadata": {},
   "outputs": [
    {
     "name": "stdout",
     "output_type": "stream",
     "text": [
      "Evaluation on Training Dataset 0.12388245269507378\n",
      "Evaluation on Test Dataset 0.13022352447976593\n"
     ]
    }
   ],
   "source": [
    "print(\"Evaluation on Training Dataset\",evaluate_model(multilabel_model,X_train,y_train,20))\n",
    "print(\"Evaluation on Test Dataset\",evaluate_model(multilabel_model,X_test,y_test,20))"
   ]
  },
  {
   "cell_type": "markdown",
   "metadata": {},
   "source": [
    "### 13 Classes"
   ]
  },
  {
   "cell_type": "code",
   "execution_count": 281,
   "metadata": {},
   "outputs": [
    {
     "data": {
      "text/plain": [
       "ClassifierChain(base_estimator=LGBMClassifier(n_estimators=1000))"
      ]
     },
     "execution_count": 281,
     "metadata": {},
     "output_type": "execute_result"
    }
   ],
   "source": [
    "model = LGBMClassifier(n_estimators=1000)\n",
    "multilabel_model = ClassifierChain(model)\n",
    "multilabel_model.fit(X_train, y_train[:,np.argsort(y_train.sum(axis=0))[7:]])"
   ]
  },
  {
   "cell_type": "code",
   "execution_count": 282,
   "metadata": {
    "scrolled": true
   },
   "outputs": [
    {
     "name": "stdout",
     "output_type": "stream",
     "text": [
      "Evaluation on Training Dataset 0.03985387863051854\n",
      "Evaluation on Test Dataset 0.03375166127032548\n"
     ]
    }
   ],
   "source": [
    "print(\"Evaluation on Training Dataset\",evaluate_model(multilabel_model,X_train,y_train,13))\n",
    "print(\"Evaluation on Test Dataset\",evaluate_model(multilabel_model,X_test,y_test,13))"
   ]
  },
  {
   "cell_type": "markdown",
   "metadata": {},
   "source": [
    "### 5 classes"
   ]
  },
  {
   "cell_type": "code",
   "execution_count": 283,
   "metadata": {},
   "outputs": [
    {
     "data": {
      "text/plain": [
       "ClassifierChain(base_estimator=LGBMClassifier(n_estimators=1000))"
      ]
     },
     "execution_count": 283,
     "metadata": {},
     "output_type": "execute_result"
    }
   ],
   "source": [
    "model = LGBMClassifier(n_estimators=1000)\n",
    "multilabel_model = ClassifierChain(model)\n",
    "multilabel_model.fit(X_train, y_train[:,np.argsort(y_train.sum(axis=0))[15:]])"
   ]
  },
  {
   "cell_type": "code",
   "execution_count": 284,
   "metadata": {
    "scrolled": true
   },
   "outputs": [
    {
     "name": "stdout",
     "output_type": "stream",
     "text": [
      "Evaluation on Training Dataset 0.15525066009428035\n",
      "Evaluation on Test Dataset 0.15831125739209548\n"
     ]
    }
   ],
   "source": [
    "print(\"Evaluation on Training Dataset\",evaluate_model(multilabel_model,X_train,y_train,5))\n",
    "print(\"Evaluation on Test Dataset\",evaluate_model(multilabel_model,X_test,y_test,5))"
   ]
  },
  {
   "cell_type": "markdown",
   "metadata": {},
   "source": [
    "### CatBoost"
   ]
  },
  {
   "cell_type": "code",
   "execution_count": 285,
   "metadata": {},
   "outputs": [
    {
     "name": "stdout",
     "output_type": "stream",
     "text": [
      "Evaluation on Training Dataset 0.15831389295269727\n",
      "Evaluation on Test Dataset 0.16486045329266008\n"
     ]
    }
   ],
   "source": [
    "### All classes - 20\n",
    "\n",
    "model = CatBoostClassifier(verbose=False)\n",
    "multilabel_model = MultiOutputClassifier(model)\n",
    "multilabel_model.fit(X_train, y_train)\n",
    "\n",
    "print(\"Evaluation on Training Dataset\",evaluate_model(multilabel_model,X_train,y_train,20))\n",
    "print(\"Evaluation on Test Dataset\",evaluate_model(multilabel_model,X_test,y_test,20))"
   ]
  },
  {
   "cell_type": "code",
   "execution_count": 286,
   "metadata": {},
   "outputs": [
    {
     "name": "stdout",
     "output_type": "stream",
     "text": [
      "Evaluation on Training Dataset 0.005946340156138108\n",
      "Evaluation on Test Dataset 0.0023190887765022787\n"
     ]
    }
   ],
   "source": [
    "model = CatBoostClassifier(verbose=False)\n",
    "multilabel_model = MultiOutputClassifier(model)\n",
    "multilabel_model.fit(X_train, y_train[:,np.argsort(y_train.sum(axis=0))[7:]])\n",
    "\n",
    "print(\"Evaluation on Training Dataset\",evaluate_model(multilabel_model,X_train,y_train,13))\n",
    "print(\"Evaluation on Test Dataset\",evaluate_model(multilabel_model,X_test,y_test,13))\n"
   ]
  },
  {
   "cell_type": "code",
   "execution_count": 287,
   "metadata": {},
   "outputs": [
    {
     "name": "stdout",
     "output_type": "stream",
     "text": [
      "Evaluation on Training Dataset 0.16170223048163818\n",
      "Evaluation on Test Dataset 0.16544245537983998\n"
     ]
    }
   ],
   "source": [
    "### 5 classes\n",
    "\n",
    "model = CatBoostClassifier(verbose=False)\n",
    "multilabel_model = MultiOutputClassifier(model)\n",
    "multilabel_model.fit(X_train, y_train[:,np.argsort(y_train.sum(axis=0))[15:]])\n",
    "\n",
    "print(\"Evaluation on Training Dataset\",evaluate_model(multilabel_model,X_train,y_train,5))\n",
    "print(\"Evaluation on Test Dataset\",evaluate_model(multilabel_model,X_test,y_test,5))\n"
   ]
  },
  {
   "cell_type": "markdown",
   "metadata": {},
   "source": [
    "### Classifier Chain"
   ]
  },
  {
   "cell_type": "code",
   "execution_count": 297,
   "metadata": {},
   "outputs": [
    {
     "data": {
      "text/plain": [
       "0.634"
      ]
     },
     "execution_count": 297,
     "metadata": {},
     "output_type": "execute_result"
    }
   ],
   "source": [
    "# 0.6+0.036\n",
    "0.6+0.034"
   ]
  },
  {
   "cell_type": "code",
   "execution_count": 288,
   "metadata": {},
   "outputs": [
    {
     "name": "stdout",
     "output_type": "stream",
     "text": [
      "Evaluation on Training Dataset 0.12795504768934052\n",
      "Evaluation on Test Dataset 0.1289413359735267\n"
     ]
    }
   ],
   "source": [
    "### All 20 classes\n",
    "\n",
    "model = CatBoostClassifier(verbose=False)\n",
    "multilabel_model = ClassifierChain(model)\n",
    "multilabel_model.fit(X_train, y_train)\n",
    "\n",
    "print(\"Evaluation on Training Dataset\",evaluate_model(multilabel_model,X_train,y_train,20))\n",
    "print(\"Evaluation on Test Dataset\",evaluate_model(multilabel_model,X_test,y_test,20))\n"
   ]
  },
  {
   "cell_type": "code",
   "execution_count": 289,
   "metadata": {},
   "outputs": [
    {
     "name": "stdout",
     "output_type": "stream",
     "text": [
      "Evaluation on Training Dataset 0.036799432384818496\n",
      "Evaluation on Test Dataset 0.03480417079196882\n"
     ]
    }
   ],
   "source": [
    "### 13 Classes\n",
    "\n",
    "model = CatBoostClassifier(verbose=False)\n",
    "multilabel_model = ClassifierChain(model)\n",
    "multilabel_model.fit(X_train, y_train[:,np.argsort(y_train.sum(axis=0))[7:]])\n",
    "\n",
    "print(\"Evaluation on Training Dataset\",evaluate_model(multilabel_model,X_train,y_train,13))\n",
    "print(\"Evaluation on Test Dataset\",evaluate_model(multilabel_model,X_test,y_test,13))\n"
   ]
  },
  {
   "cell_type": "code",
   "execution_count": 290,
   "metadata": {},
   "outputs": [
    {
     "name": "stdout",
     "output_type": "stream",
     "text": [
      "Evaluation on Training Dataset 0.15628748039487037\n",
      "Evaluation on Test Dataset 0.15793886525202253\n"
     ]
    }
   ],
   "source": [
    "model = CatBoostClassifier(verbose=False)\n",
    "multilabel_model = ClassifierChain(model)\n",
    "multilabel_model.fit(X_train, y_train[:,np.argsort(y_train.sum(axis=0))[15:]])\n",
    "\n",
    "print(\"Evaluation on Training Dataset\",evaluate_model(multilabel_model,X_train,y_train,5))\n",
    "print(\"Evaluation on Test Dataset\",evaluate_model(multilabel_model,X_test,y_test,5))"
   ]
  },
  {
   "cell_type": "code",
   "execution_count": null,
   "metadata": {},
   "outputs": [],
   "source": []
  },
  {
   "cell_type": "code",
   "execution_count": null,
   "metadata": {},
   "outputs": [],
   "source": []
  },
  {
   "cell_type": "code",
   "execution_count": null,
   "metadata": {},
   "outputs": [],
   "source": []
  },
  {
   "cell_type": "code",
   "execution_count": null,
   "metadata": {},
   "outputs": [],
   "source": []
  }
 ],
 "metadata": {
  "kernelspec": {
   "display_name": "Python 3 (ipykernel)",
   "language": "python",
   "name": "python3"
  },
  "language_info": {
   "codemirror_mode": {
    "name": "ipython",
    "version": 3
   },
   "file_extension": ".py",
   "mimetype": "text/x-python",
   "name": "python",
   "nbconvert_exporter": "python",
   "pygments_lexer": "ipython3",
   "version": "3.9.7"
  }
 },
 "nbformat": 4,
 "nbformat_minor": 2
}
