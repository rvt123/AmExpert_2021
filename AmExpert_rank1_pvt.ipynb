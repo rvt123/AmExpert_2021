{
 "cells": [
  {
   "cell_type": "code",
   "execution_count": 2,
   "metadata": {},
   "outputs": [],
   "source": [
    "import pandas as pd\n",
    "import numpy as np\n",
    "import lightgbm as lgb\n",
    "import re\n",
    "import random\n",
    "import ml_metrics as metrics\n",
    "\n",
    "from scipy.sparse.linalg import svds\n",
    "from scipy.sparse import csr_matrix, coo_matrix\n",
    "\n",
    "from catboost import CatBoostClassifier\n",
    "\n",
    "pd.set_option('max_columns', 100)"
   ]
  },
  {
   "cell_type": "code",
   "execution_count": 3,
   "metadata": {},
   "outputs": [],
   "source": [
    "train = pd.read_csv(\"../Data/train_go05W65.csv\")\n",
    "test = pd.read_csv(\"../Data/test_VkM91FT.csv\")\n",
    "sample_submission = pd.read_csv(\"../Data/sample_submission_kF044ur.csv\")"
   ]
  },
  {
   "cell_type": "code",
   "execution_count": 4,
   "metadata": {},
   "outputs": [],
   "source": [
    "train.Product_Holding_B1 = train.Product_Holding_B1.map(lambda x : re.findall(\"P\\d+\", x))\n",
    "train.Product_Holding_B2 = train.Product_Holding_B2.map(lambda x : re.findall(\"P\\d+\", x))\n",
    "test.Product_Holding_B1 = test.Product_Holding_B1.map(lambda x : re.findall(\"P\\d+\", x))"
   ]
  },
  {
   "cell_type": "code",
   "execution_count": 5,
   "metadata": {},
   "outputs": [],
   "source": [
    "b1_products = sorted(list(set(sum(train.Product_Holding_B1.to_list(), []))))\n",
    "b2_products = sorted(list(set(sum(train.Product_Holding_B2.to_list(), []))))"
   ]
  },
  {
   "cell_type": "code",
   "execution_count": 6,
   "metadata": {},
   "outputs": [],
   "source": [
    "for p in b1_products:\n",
    "    train[p] = train.Product_Holding_B1.map(lambda x : 1 if p in x else 0)\n",
    "    test[p] = test.Product_Holding_B1.map(lambda x : 1 if p in x else 0)"
   ]
  },
  {
   "cell_type": "code",
   "execution_count": 7,
   "metadata": {},
   "outputs": [
    {
     "name": "stderr",
     "output_type": "stream",
     "text": [
      "/opt/anaconda3/lib/python3.7/site-packages/ipykernel_launcher.py:5: SettingWithCopyWarning: \n",
      "A value is trying to be set on a copy of a slice from a DataFrame.\n",
      "Try using .loc[row_indexer,col_indexer] = value instead\n",
      "\n",
      "See the caveats in the documentation: https://pandas.pydata.org/pandas-docs/stable/user_guide/indexing.html#returning-a-view-versus-a-copy\n",
      "  \"\"\"\n",
      "/opt/anaconda3/lib/python3.7/site-packages/ipykernel_launcher.py:6: SettingWithCopyWarning: \n",
      "A value is trying to be set on a copy of a slice from a DataFrame.\n",
      "Try using .loc[row_indexer,col_indexer] = value instead\n",
      "\n",
      "See the caveats in the documentation: https://pandas.pydata.org/pandas-docs/stable/user_guide/indexing.html#returning-a-view-versus-a-copy\n",
      "  \n",
      "/opt/anaconda3/lib/python3.7/site-packages/pandas/core/frame.py:4913: SettingWithCopyWarning: \n",
      "A value is trying to be set on a copy of a slice from a DataFrame\n",
      "\n",
      "See the caveats in the documentation: https://pandas.pydata.org/pandas-docs/stable/user_guide/indexing.html#returning-a-view-versus-a-copy\n",
      "  errors=errors,\n"
     ]
    }
   ],
   "source": [
    "train_labels = train[['Customer_ID', 'Product_Holding_B2']]\n",
    "test_labels = test[['Customer_ID']]\n",
    "\n",
    "for p in b2_products:\n",
    "    train_labels[p] = train_labels.Product_Holding_B2.map(lambda x : 1 if p in x else 0)\n",
    "    test_labels[p] = 0\n",
    "train_labels.drop('Product_Holding_B2', axis = 1, inplace = True)\n",
    "train_labels = train_labels.melt(id_vars=['Customer_ID']).rename(columns = {'variable' : 'product', 'value' : 'target'})\n",
    "test_labels = test_labels.melt(id_vars=['Customer_ID']).rename(columns = {'variable' : 'product'}).drop('value', axis =1)\n",
    "train1 = train.merge(train_labels, on = 'Customer_ID')\n",
    "test1 = test.merge(test_labels, on = 'Customer_ID')\n"
   ]
  },
  {
   "cell_type": "code",
   "execution_count": 8,
   "metadata": {},
   "outputs": [],
   "source": [
    "product_counts = train[b1_products].append(test[b1_products]).sum().to_dict()\n",
    "train1['product_counts'] = train1['product'].map(product_counts)\n",
    "test1['product_counts'] = test1['product'].map(product_counts)"
   ]
  },
  {
   "cell_type": "code",
   "execution_count": 9,
   "metadata": {},
   "outputs": [],
   "source": [
    "count_matrix = train[b1_products].append(test[b1_products])\n",
    "count_matrix = pd.DataFrame(np.matmul(count_matrix.values.T, count_matrix.values), columns = b1_products)\n",
    "count_matrix['product'] = b1_products\n",
    "count_matrix = count_matrix.set_index('product')"
   ]
  },
  {
   "cell_type": "code",
   "execution_count": 10,
   "metadata": {},
   "outputs": [],
   "source": [
    "train1['pair_count_max'] = [max([count_matrix[p][row.product] for p in row.Product_Holding_B1]) \n",
    "                            for row in train1.itertuples()]\n",
    "test1['pair_count_max'] = [max([count_matrix[p][row.product] for p in row.Product_Holding_B1]) \n",
    "                           for row in test1.itertuples()]\n",
    "\n",
    "train1['pair_count_min'] = [min([count_matrix[p][row.product] for p in row.Product_Holding_B1]) \n",
    "                            for row in train1.itertuples()]\n",
    "test1['pair_count_min'] = [min([count_matrix[p][row.product] for p in row.Product_Holding_B1]) \n",
    "                           for row in test1.itertuples()]"
   ]
  },
  {
   "cell_type": "code",
   "execution_count": 11,
   "metadata": {},
   "outputs": [],
   "source": [
    "train1['product_count_max'] = train1['Product_Holding_B1'].map(lambda x : max([product_counts[p] for p in x]))\n",
    "train1['product_count_min'] = train1['Product_Holding_B1'].map(lambda x : min([product_counts[p] for p in x]))\n",
    "\n",
    "test1['product_count_max'] = test1['Product_Holding_B1'].map(lambda x : max([product_counts[p] for p in x]))\n",
    "test1['product_count_min'] = test1['Product_Holding_B1'].map(lambda x : min([product_counts[p] for p in x]))\n"
   ]
  },
  {
   "cell_type": "code",
   "execution_count": 12,
   "metadata": {},
   "outputs": [],
   "source": [
    "train1['Gender_Male'] = 1*(train1['Gender'] == \"Male\")\n",
    "test1['Gender_Male'] = 1*(test1['Gender'] == \"Male\")\n",
    "\n",
    "train1['City_Category_C1'] = 1*(train1.City_Category == \"C1\")\n",
    "test1['City_Category_C1'] = 1*(test1.City_Category == \"C1\")\n",
    "\n",
    "train1['Customer_Category_S1'] = 1*(train1.Customer_Category == \"S1\")\n",
    "train1['Customer_Category_S2'] = 1*(train1.Customer_Category == \"S2\")\n",
    "test1['Customer_Category_S1'] = 1*(test1.Customer_Category == \"S1\")\n",
    "test1['Customer_Category_S2'] = 1*(test1.Customer_Category == \"S2\")"
   ]
  },
  {
   "cell_type": "code",
   "execution_count": 13,
   "metadata": {},
   "outputs": [],
   "source": [
    "train1['Product_Holding_B1_len'] = train1['Product_Holding_B1'].map(len)\n",
    "test1['Product_Holding_B1_len'] = test1['Product_Holding_B1'].map(len)"
   ]
  },
  {
   "cell_type": "code",
   "execution_count": 14,
   "metadata": {},
   "outputs": [],
   "source": [
    "train1['self'] = [row.product in row.Product_Holding_B1 for row in train1.itertuples()]\n",
    "test1['self'] = [row.product in row.Product_Holding_B1 for row in test1.itertuples()]"
   ]
  },
  {
   "cell_type": "code",
   "execution_count": 15,
   "metadata": {},
   "outputs": [],
   "source": [
    "train1 = train1[~((train1['self'] == 1) & (train1['product'] != \"P00\"))]\n",
    "test1 = test1[~((test1['self'] == 1) & (test1['product'] != \"P00\"))]"
   ]
  },
  {
   "cell_type": "code",
   "execution_count": 16,
   "metadata": {},
   "outputs": [],
   "source": [
    "train1['vintage_by_age'] = train1['Vintage'] / train1['Age']\n",
    "test1['vintage_by_age'] = test1['Vintage'] / test1['Age']"
   ]
  },
  {
   "cell_type": "code",
   "execution_count": 17,
   "metadata": {},
   "outputs": [],
   "source": [
    "train1['id'] = train1['Customer_ID'].map(lambda x : int(x.replace(\"CC\", \"\")))\n",
    "test1['id'] = test1['Customer_ID'].map(lambda x : int(x.replace(\"CC\", \"\")))"
   ]
  },
  {
   "cell_type": "code",
   "execution_count": 19,
   "metadata": {},
   "outputs": [],
   "source": [
    "from scipy.sparse.linalg import svds\n",
    "from scipy.sparse import csr_matrix, coo_matrix\n",
    "\n",
    "df = train1[['id'] + b1_products].append(test1[['id'] + b1_products]).drop_duplicates()\n",
    "df['id'] = df['id'] // 10\n",
    "df = df.groupby('id').sum()\n",
    "                                        \n",
    "R = coo_matrix(df.values).asfptype()\n",
    "U, sigma, Vt = svds(R, k = 8)\n",
    "df1 = pd.DataFrame(np.matmul(U, Vt))\n",
    "df1['id'] = df.index\n",
    "df1 = df1.set_index('id')\n",
    "df1.columns = b1_products\n",
    "svd_score = df1.to_dict()\n",
    "\n",
    "train1['svd_score1'] = [svd_score[row.product][row.id //10] for row in train1.itertuples()]\n",
    "test1['svd_score1'] = [svd_score[row.product][row.id // 10] for row in test1.itertuples()]\n"
   ]
  },
  {
   "cell_type": "code",
   "execution_count": 20,
   "metadata": {},
   "outputs": [],
   "source": [
    "from scipy.sparse.linalg import svds\n",
    "from scipy.sparse import csr_matrix, coo_matrix\n",
    "\n",
    "df = train1[['id'] + b1_products].append(test1[['id'] + b1_products]).drop_duplicates()\n",
    "df['id'] = df['id'] // 100\n",
    "df = df.groupby('id').sum()\n",
    "                                        \n",
    "R = coo_matrix(df.values).asfptype()\n",
    "U, sigma, Vt = svds(R, k = 8)\n",
    "df1 = pd.DataFrame(np.matmul(U, Vt))\n",
    "df1['id'] = df.index\n",
    "df1 = df1.set_index('id')\n",
    "df1.columns = b1_products\n",
    "svd_score = df1.to_dict()\n",
    "\n",
    "train1['svd_score2'] = [svd_score[row.product][row.id //100] for row in train1.itertuples()]\n",
    "test1['svd_score2'] = [svd_score[row.product][row.id // 100] for row in test1.itertuples()]\n"
   ]
  },
  {
   "cell_type": "code",
   "execution_count": 21,
   "metadata": {},
   "outputs": [],
   "source": [
    "from scipy.sparse.linalg import svds\n",
    "from scipy.sparse import csr_matrix, coo_matrix\n",
    "\n",
    "df = train1[['id'] + b1_products].append(test1[['id'] + b1_products]).drop_duplicates()\n",
    "df['id'] = df['id'] // 1000\n",
    "df = df.groupby('id').sum()\n",
    "                                        \n",
    "R = coo_matrix(df.values).asfptype()\n",
    "U, sigma, Vt = svds(R, k = 8)\n",
    "df1 = pd.DataFrame(np.matmul(U, Vt))\n",
    "df1['id'] = df.index\n",
    "df1 = df1.set_index('id')\n",
    "df1.columns = b1_products\n",
    "svd_score = df1.to_dict()\n",
    "\n",
    "train1['svd_score3'] = [svd_score[row.product][row.id //1000] for row in train1.itertuples()]\n",
    "test1['svd_score3'] = [svd_score[row.product][row.id // 1000] for row in test1.itertuples()]\n"
   ]
  },
  {
   "cell_type": "code",
   "execution_count": 22,
   "metadata": {},
   "outputs": [],
   "source": [
    "target_counts = train1[train1['target'] == 1]['product'].value_counts().to_dict()\n",
    "\n",
    "train1['product_target_count'] = train1['product'].map(target_counts)\n",
    "test1['product_target_count'] = test1['product'].map(target_counts)\n"
   ]
  },
  {
   "cell_type": "code",
   "execution_count": 23,
   "metadata": {},
   "outputs": [],
   "source": [
    "b1_count = train.append(test).Product_Holding_B1.astype(str).value_counts().to_dict()\n",
    "train1['b1_count'] = train1['Product_Holding_B1'].astype(str).map(b1_count)\n",
    "test1['b1_count'] = test1['Product_Holding_B1'].astype(str).map(b1_count)\n"
   ]
  },
  {
   "cell_type": "code",
   "execution_count": 24,
   "metadata": {},
   "outputs": [],
   "source": [
    "train1['product1'] = train1['product'].map(lambda x : int(x.replace(\"P\", \"\")))\n",
    "test1['product1'] = test1['product'].map(lambda x : int(x.replace(\"P\", \"\")))"
   ]
  },
  {
   "cell_type": "code",
   "execution_count": 25,
   "metadata": {},
   "outputs": [
    {
     "data": {
      "text/plain": [
       "Index(['Customer_ID', 'Gender', 'Age', 'Vintage', 'Is_Active', 'City_Category',\n",
       "       'Customer_Category', 'Product_Holding_B1', 'Product_Holding_B2', 'P00',\n",
       "       'P1', 'P10', 'P11', 'P12', 'P13', 'P14', 'P15', 'P16', 'P17', 'P18',\n",
       "       'P19', 'P2', 'P20', 'P21', 'P3', 'P4', 'P5', 'P6', 'P7', 'P8', 'P9',\n",
       "       'product', 'target', 'product_counts', 'pair_count_max',\n",
       "       'pair_count_min', 'product_count_max', 'product_count_min',\n",
       "       'Gender_Male', 'City_Category_C1', 'Customer_Category_S1',\n",
       "       'Customer_Category_S2', 'Product_Holding_B1_len', 'self',\n",
       "       'vintage_by_age', 'id', 'svd_score1', 'svd_score2', 'svd_score3',\n",
       "       'product_target_count', 'b1_count', 'product1'],\n",
       "      dtype='object')"
      ]
     },
     "execution_count": 25,
     "metadata": {},
     "output_type": "execute_result"
    }
   ],
   "source": [
    "train1.columns"
   ]
  },
  {
   "cell_type": "code",
   "execution_count": 34,
   "metadata": {},
   "outputs": [
    {
     "data": {
      "text/plain": [
       "43"
      ]
     },
     "execution_count": 34,
     "metadata": {},
     "output_type": "execute_result"
    }
   ],
   "source": [
    "indep_vars = [\n",
    "    'Age',\n",
    "    'Vintage', 'Is_Active', 'P00',\n",
    "       'P1', 'P10', 'P11', 'P12', 'P13', 'P14', 'P15', 'P16', 'P17', 'P18',\n",
    "       'P19', 'P2', 'P20', 'P21', 'P3', 'P4', 'P5', 'P6', 'P7', 'P8', 'P9', 'product_counts', 'pair_count_max',\n",
    "              'Gender_Male',\n",
    "       'City_Category_C1', 'Customer_Category_S1', 'Customer_Category_S2', 'Product_Holding_B1_len',\n",
    "             'vintage_by_age', 'product_count_max',\n",
    "       'product_count_min', 'pair_count_min', 'svd_score1', 'svd_score2', \n",
    "    'svd_score3',\n",
    "    'product_target_count', 'b1_count', 'id',\n",
    "              'product1'\n",
    "             ]\n",
    "len(indep_vars)"
   ]
  },
  {
   "cell_type": "code",
   "execution_count": 35,
   "metadata": {},
   "outputs": [
    {
     "name": "stdout",
     "output_type": "stream",
     "text": [
      "0:\ttest: 0.8852196\tbest: 0.8852196 (0)\ttotal: 109ms\tremaining: 14m 29s\n",
      "500:\ttest: 0.9813657\tbest: 0.9813657 (500)\ttotal: 22.8s\tremaining: 5m 41s\n",
      "1000:\ttest: 0.9834726\tbest: 0.9834726 (1000)\ttotal: 44.5s\tremaining: 5m 11s\n",
      "1500:\ttest: 0.9842965\tbest: 0.9842965 (1500)\ttotal: 1m 9s\tremaining: 5m\n",
      "2000:\ttest: 0.9846385\tbest: 0.9846385 (1999)\ttotal: 1m 33s\tremaining: 4m 40s\n",
      "2500:\ttest: 0.9847480\tbest: 0.9847486 (2481)\ttotal: 2m 4s\tremaining: 4m 34s\n",
      "3000:\ttest: 0.9848392\tbest: 0.9848392 (3000)\ttotal: 2m 32s\tremaining: 4m 14s\n",
      "3500:\ttest: 0.9849212\tbest: 0.9849212 (3497)\ttotal: 2m 53s\tremaining: 3m 43s\n",
      "4000:\ttest: 0.9849610\tbest: 0.9849610 (4000)\ttotal: 3m 14s\tremaining: 3m 14s\n",
      "4500:\ttest: 0.9849908\tbest: 0.9849925 (4432)\ttotal: 3m 35s\tremaining: 2m 47s\n",
      "5000:\ttest: 0.9850037\tbest: 0.9850054 (4805)\ttotal: 3m 57s\tremaining: 2m 22s\n",
      "5500:\ttest: 0.9850316\tbest: 0.9850327 (5455)\ttotal: 4m 17s\tremaining: 1m 57s\n",
      "6000:\ttest: 0.9850479\tbest: 0.9850502 (5920)\ttotal: 4m 38s\tremaining: 1m 32s\n",
      "6500:\ttest: 0.9850544\tbest: 0.9850556 (6230)\ttotal: 5m\tremaining: 1m 9s\n",
      "7000:\ttest: 0.9850586\tbest: 0.9850621 (6924)\ttotal: 5m 20s\tremaining: 45.7s\n",
      "7500:\ttest: 0.9850590\tbest: 0.9850621 (6924)\ttotal: 5m 41s\tremaining: 22.7s\n",
      "7999:\ttest: 0.9850576\tbest: 0.9850629 (7777)\ttotal: 6m 2s\tremaining: 0us\n",
      "\n",
      "bestTest = 0.9850628997\n",
      "bestIteration = 7777\n",
      "\n",
      "Shrink model to first 7778 iterations.\n"
     ]
    },
    {
     "data": {
      "text/plain": [
       "<catboost.core.CatBoostClassifier at 0x7f9943f3ae90>"
      ]
     },
     "execution_count": 35,
     "metadata": {},
     "output_type": "execute_result"
    }
   ],
   "source": [
    "clf = CatBoostClassifier(\n",
    "    iterations=8000,\n",
    "    eval_metric = 'AUC',\n",
    "    learning_rate = 0.03,\n",
    "    verbose=500,\n",
    ")\n",
    "\n",
    "random.seed(2)\n",
    "dev_ids = random.sample(train.Customer_ID.to_list(), 30000)\n",
    "dev = train1[train1.Customer_ID.isin(dev_ids)]\n",
    "val = train1[train1.Customer_ID.isin(dev_ids) == False]\n",
    "\n",
    "\n",
    "clf.fit(\n",
    "    dev[indep_vars], dev.target,\n",
    "    eval_set=(val[indep_vars], val.target),\n",
    ")"
   ]
  },
  {
   "cell_type": "code",
   "execution_count": 36,
   "metadata": {},
   "outputs": [
    {
     "name": "stderr",
     "output_type": "stream",
     "text": [
      "/opt/anaconda3/lib/python3.7/site-packages/ipykernel_launcher.py:1: SettingWithCopyWarning: \n",
      "A value is trying to be set on a copy of a slice from a DataFrame.\n",
      "Try using .loc[row_indexer,col_indexer] = value instead\n",
      "\n",
      "See the caveats in the documentation: https://pandas.pydata.org/pandas-docs/stable/user_guide/indexing.html#returning-a-view-versus-a-copy\n",
      "  \"\"\"Entry point for launching an IPython kernel.\n"
     ]
    }
   ],
   "source": [
    "val['pred_cat'] = clf.predict_proba(val[indep_vars])[:,1]"
   ]
  },
  {
   "cell_type": "code",
   "execution_count": 37,
   "metadata": {},
   "outputs": [
    {
     "data": {
      "text/plain": [
       "0.8666214937188093"
      ]
     },
     "execution_count": 37,
     "metadata": {},
     "output_type": "execute_result"
    }
   ],
   "source": [
    "df = val.sort_values(by = ['Customer_ID', 'pred_cat'], ascending = False)\n",
    "actuals = df[df.target == 1][['Customer_ID', 'product']].groupby('Customer_ID').agg(list)['product'].to_list()\n",
    "predicted = df.groupby('Customer_ID').head(3).groupby('Customer_ID').agg(list)['product'].to_list()\n",
    "metrics.mapk(actuals, predicted, k=3)"
   ]
  },
  {
   "cell_type": "code",
   "execution_count": 38,
   "metadata": {},
   "outputs": [
    {
     "name": "stdout",
     "output_type": "stream",
     "text": [
      "Training until validation scores don't improve for 500 rounds\n",
      "[100]\tvalid_0's auc: 0.977776\n",
      "[200]\tvalid_0's auc: 0.980603\n",
      "[300]\tvalid_0's auc: 0.982151\n",
      "[400]\tvalid_0's auc: 0.983089\n",
      "[500]\tvalid_0's auc: 0.983619\n",
      "[600]\tvalid_0's auc: 0.984011\n",
      "[700]\tvalid_0's auc: 0.98426\n",
      "[800]\tvalid_0's auc: 0.984455\n",
      "[900]\tvalid_0's auc: 0.984576\n",
      "[1000]\tvalid_0's auc: 0.984667\n",
      "[1100]\tvalid_0's auc: 0.984737\n",
      "[1200]\tvalid_0's auc: 0.984801\n",
      "[1300]\tvalid_0's auc: 0.98485\n",
      "[1400]\tvalid_0's auc: 0.984887\n",
      "[1500]\tvalid_0's auc: 0.984921\n",
      "[1600]\tvalid_0's auc: 0.98495\n",
      "[1700]\tvalid_0's auc: 0.984982\n",
      "[1800]\tvalid_0's auc: 0.984995\n",
      "[1900]\tvalid_0's auc: 0.985008\n",
      "[2000]\tvalid_0's auc: 0.985037\n",
      "[2100]\tvalid_0's auc: 0.985046\n",
      "[2200]\tvalid_0's auc: 0.985063\n",
      "[2300]\tvalid_0's auc: 0.985069\n",
      "[2400]\tvalid_0's auc: 0.985082\n",
      "[2500]\tvalid_0's auc: 0.985096\n",
      "[2600]\tvalid_0's auc: 0.985107\n",
      "[2700]\tvalid_0's auc: 0.985113\n",
      "[2800]\tvalid_0's auc: 0.985121\n",
      "[2900]\tvalid_0's auc: 0.98513\n",
      "[3000]\tvalid_0's auc: 0.985134\n",
      "[3100]\tvalid_0's auc: 0.985136\n",
      "[3200]\tvalid_0's auc: 0.985136\n",
      "[3300]\tvalid_0's auc: 0.985132\n",
      "[3400]\tvalid_0's auc: 0.98514\n",
      "[3500]\tvalid_0's auc: 0.985146\n",
      "[3600]\tvalid_0's auc: 0.985145\n",
      "[3700]\tvalid_0's auc: 0.985144\n",
      "[3800]\tvalid_0's auc: 0.985142\n",
      "[3900]\tvalid_0's auc: 0.985138\n",
      "[4000]\tvalid_0's auc: 0.985138\n",
      "[4100]\tvalid_0's auc: 0.985141\n",
      "Early stopping, best iteration is:\n",
      "[3690]\tvalid_0's auc: 0.985148\n"
     ]
    }
   ],
   "source": [
    "params = {\n",
    "    'task': 'train',\n",
    "    'boosting_type': 'gbdt',\n",
    "    'objective':'binary',\n",
    "    'metric': {'auc'},\n",
    "    'num_leaves': 96,\n",
    "    'learning_rate': 0.01,\n",
    "    'feature_fraction': 0.5,\n",
    "    'bagging_fraction': 0.5,\n",
    "    'bagging_freq': 1,\n",
    "    'verbose': 1,\n",
    "    'min_data_in_leaf' : 1,\n",
    "    'max_bin' : 255,\n",
    "    'lambda_l1' : 0.00002,\n",
    "    'lambda_l2' : 0.00001,\n",
    "    'min_gain_to_split' : 0.001\n",
    "}\n",
    "\n",
    "# random.seed(2)\n",
    "# dev_ids = random.sample(train.Customer_ID.to_list(), 30000)\n",
    "# dev = train1[train1.Customer_ID.isin(dev_ids)]\n",
    "# val = train1[train1.Customer_ID.isin(dev_ids) == False]\n",
    "lgb_dev = lgb.Dataset(dev[indep_vars], dev['target'])\n",
    "lgb_val = lgb.Dataset(val[indep_vars], val['target'])\n",
    "\n",
    "model = lgb.train(params, lgb_dev, num_boost_round = 5000, valid_sets = (lgb_val), early_stopping_rounds = 500,\n",
    "                 verbose_eval = 100)"
   ]
  },
  {
   "cell_type": "code",
   "execution_count": 39,
   "metadata": {},
   "outputs": [
    {
     "name": "stderr",
     "output_type": "stream",
     "text": [
      "/opt/anaconda3/lib/python3.7/site-packages/ipykernel_launcher.py:1: SettingWithCopyWarning: \n",
      "A value is trying to be set on a copy of a slice from a DataFrame.\n",
      "Try using .loc[row_indexer,col_indexer] = value instead\n",
      "\n",
      "See the caveats in the documentation: https://pandas.pydata.org/pandas-docs/stable/user_guide/indexing.html#returning-a-view-versus-a-copy\n",
      "  \"\"\"Entry point for launching an IPython kernel.\n"
     ]
    },
    {
     "data": {
      "text/plain": [
       "0.8675177823667756"
      ]
     },
     "execution_count": 39,
     "metadata": {},
     "output_type": "execute_result"
    }
   ],
   "source": [
    "val['pred_lgb'] = model.predict(val[indep_vars])\n",
    "df = val.sort_values(by = ['Customer_ID', 'pred_lgb'], ascending = False)\n",
    "actuals = df[df.target == 1][['Customer_ID', 'product']].groupby('Customer_ID').agg(list)['product'].to_list()\n",
    "predicted = df.groupby('Customer_ID').head(3).groupby('Customer_ID').agg(list)['product'].to_list()\n",
    "metrics.mapk(actuals, predicted, k=3)"
   ]
  },
  {
   "cell_type": "code",
   "execution_count": 51,
   "metadata": {},
   "outputs": [
    {
     "name": "stderr",
     "output_type": "stream",
     "text": [
      "/opt/anaconda3/lib/python3.7/site-packages/ipykernel_launcher.py:1: SettingWithCopyWarning: \n",
      "A value is trying to be set on a copy of a slice from a DataFrame.\n",
      "Try using .loc[row_indexer,col_indexer] = value instead\n",
      "\n",
      "See the caveats in the documentation: https://pandas.pydata.org/pandas-docs/stable/user_guide/indexing.html#returning-a-view-versus-a-copy\n",
      "  \"\"\"Entry point for launching an IPython kernel.\n"
     ]
    },
    {
     "data": {
      "text/plain": [
       "0.8675966557677967"
      ]
     },
     "execution_count": 51,
     "metadata": {},
     "output_type": "execute_result"
    }
   ],
   "source": [
    "val['pred'] = (val['pred_cat']**2 * 0.05 + val['pred_lgb']**2 * 0.95).map(np.sqrt)\n",
    "df = val.sort_values(by = ['Customer_ID', 'pred'], ascending = False)\n",
    "actuals = df[df.target == 1][['Customer_ID', 'product']].groupby('Customer_ID').agg(list)['product'].to_list()\n",
    "predicted = df.groupby('Customer_ID').head(3).groupby('Customer_ID').agg(list)['product'].to_list()\n",
    "metrics.mapk(actuals, predicted, k=3)"
   ]
  },
  {
   "cell_type": "code",
   "execution_count": 41,
   "metadata": {},
   "outputs": [
    {
     "name": "stdout",
     "output_type": "stream",
     "text": [
      "0:\ttotal: 67.5ms\tremaining: 8m 44s\n",
      "500:\ttotal: 26.7s\tremaining: 6m 27s\n",
      "1000:\ttotal: 53.7s\tremaining: 6m 3s\n",
      "1500:\ttotal: 1m 19s\tremaining: 5m 33s\n",
      "2000:\ttotal: 1m 42s\tremaining: 4m 55s\n",
      "2500:\ttotal: 2m 5s\tremaining: 4m 25s\n",
      "3000:\ttotal: 2m 31s\tremaining: 4m 1s\n",
      "3500:\ttotal: 2m 55s\tremaining: 3m 34s\n",
      "4000:\ttotal: 3m 19s\tremaining: 3m 8s\n",
      "4500:\ttotal: 3m 42s\tremaining: 2m 41s\n",
      "5000:\ttotal: 4m 4s\tremaining: 2m 15s\n",
      "5500:\ttotal: 4m 28s\tremaining: 1m 51s\n",
      "6000:\ttotal: 4m 50s\tremaining: 1m 26s\n",
      "6500:\ttotal: 5m 12s\tremaining: 1m 1s\n",
      "7000:\ttotal: 5m 35s\tremaining: 37.2s\n",
      "7500:\ttotal: 5m 57s\tremaining: 13.2s\n",
      "7776:\ttotal: 6m 9s\tremaining: 0us\n"
     ]
    },
    {
     "data": {
      "text/plain": [
       "<catboost.core.CatBoostClassifier at 0x7f9943f3afd0>"
      ]
     },
     "execution_count": 41,
     "metadata": {},
     "output_type": "execute_result"
    }
   ],
   "source": [
    "clf = CatBoostClassifier(\n",
    "    iterations=7777,\n",
    "    learning_rate = 0.03,\n",
    "    verbose=500,\n",
    "    eval_metric = 'AUC'\n",
    ")\n",
    "clf.fit(train1[indep_vars], train1.target)"
   ]
  },
  {
   "cell_type": "code",
   "execution_count": 42,
   "metadata": {},
   "outputs": [],
   "source": [
    "lgb_train = lgb.Dataset(train1[indep_vars], train1['target'])\n",
    "model = lgb.train(params, lgb_train, num_boost_round = 3690)"
   ]
  },
  {
   "cell_type": "code",
   "execution_count": 54,
   "metadata": {},
   "outputs": [],
   "source": [
    "test1['pred_cat'] = clf.predict_proba(test1[indep_vars])[:,1]\n",
    "test1['pred_lgb'] = model.predict(test1[indep_vars])\n",
    "test1['pred'] = (test1['pred_cat']* 0.5 + test1['pred_lgb']* 0.5)"
   ]
  },
  {
   "cell_type": "code",
   "execution_count": 55,
   "metadata": {},
   "outputs": [],
   "source": [
    "test1.sort_values(by = ['Customer_ID', 'pred'], ascending = False).groupby('Customer_ID').head(3).groupby(\n",
    "    'Customer_ID').agg(list)['product'].reset_index().rename(columns = {\"product\" : \"Product_Holding_B2\"}).to_csv(\"./submission.csv\", index = False)"
   ]
  },
  {
   "cell_type": "code",
   "execution_count": null,
   "metadata": {},
   "outputs": [],
   "source": []
  }
 ],
 "metadata": {
  "kernelspec": {
   "display_name": "Python 3 (ipykernel)",
   "language": "python",
   "name": "python3"
  },
  "language_info": {
   "codemirror_mode": {
    "name": "ipython",
    "version": 3
   },
   "file_extension": ".py",
   "mimetype": "text/x-python",
   "name": "python",
   "nbconvert_exporter": "python",
   "pygments_lexer": "ipython3",
   "version": "3.9.7"
  }
 },
 "nbformat": 4,
 "nbformat_minor": 2
}
